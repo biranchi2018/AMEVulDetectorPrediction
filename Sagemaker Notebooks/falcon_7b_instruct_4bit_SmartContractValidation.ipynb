{
  "nbformat": 4,
  "nbformat_minor": 0,
  "metadata": {
    "colab": {
      "provenance": [],
      "gpuType": "T4"
    },
    "kernelspec": {
      "name": "python3",
      "display_name": "Python 3"
    },
    "language_info": {
      "name": "python"
    },
    "accelerator": "GPU",
    "widgets": {
      "application/vnd.jupyter.widget-state+json": {
        "55bc531b51be443f8211ea6f7823c18b": {
          "model_module": "@jupyter-widgets/controls",
          "model_name": "HBoxModel",
          "model_module_version": "1.5.0",
          "state": {
            "_dom_classes": [],
            "_model_module": "@jupyter-widgets/controls",
            "_model_module_version": "1.5.0",
            "_model_name": "HBoxModel",
            "_view_count": null,
            "_view_module": "@jupyter-widgets/controls",
            "_view_module_version": "1.5.0",
            "_view_name": "HBoxView",
            "box_style": "",
            "children": [
              "IPY_MODEL_40f0b746ddc049feb0453c8979abad72",
              "IPY_MODEL_f11e6bc68c4e483c9bd02a91136d60b8",
              "IPY_MODEL_fd5c1b1a26824dcabb68630e928b15cc"
            ],
            "layout": "IPY_MODEL_291e68522b3c4b97947111bfeb6326d8"
          }
        },
        "40f0b746ddc049feb0453c8979abad72": {
          "model_module": "@jupyter-widgets/controls",
          "model_name": "HTMLModel",
          "model_module_version": "1.5.0",
          "state": {
            "_dom_classes": [],
            "_model_module": "@jupyter-widgets/controls",
            "_model_module_version": "1.5.0",
            "_model_name": "HTMLModel",
            "_view_count": null,
            "_view_module": "@jupyter-widgets/controls",
            "_view_module_version": "1.5.0",
            "_view_name": "HTMLView",
            "description": "",
            "description_tooltip": null,
            "layout": "IPY_MODEL_903099c334a2487aafacf33d243078a0",
            "placeholder": "​",
            "style": "IPY_MODEL_df93b042592d49b8a83d886485f1487d",
            "value": "Loading checkpoint shards: 100%"
          }
        },
        "f11e6bc68c4e483c9bd02a91136d60b8": {
          "model_module": "@jupyter-widgets/controls",
          "model_name": "FloatProgressModel",
          "model_module_version": "1.5.0",
          "state": {
            "_dom_classes": [],
            "_model_module": "@jupyter-widgets/controls",
            "_model_module_version": "1.5.0",
            "_model_name": "FloatProgressModel",
            "_view_count": null,
            "_view_module": "@jupyter-widgets/controls",
            "_view_module_version": "1.5.0",
            "_view_name": "ProgressView",
            "bar_style": "success",
            "description": "",
            "description_tooltip": null,
            "layout": "IPY_MODEL_f650cb0d3abe46399bf888eeb0af6937",
            "max": 15,
            "min": 0,
            "orientation": "horizontal",
            "style": "IPY_MODEL_ccbe0753b1df4abda2c1aee9257adb7f",
            "value": 15
          }
        },
        "fd5c1b1a26824dcabb68630e928b15cc": {
          "model_module": "@jupyter-widgets/controls",
          "model_name": "HTMLModel",
          "model_module_version": "1.5.0",
          "state": {
            "_dom_classes": [],
            "_model_module": "@jupyter-widgets/controls",
            "_model_module_version": "1.5.0",
            "_model_name": "HTMLModel",
            "_view_count": null,
            "_view_module": "@jupyter-widgets/controls",
            "_view_module_version": "1.5.0",
            "_view_name": "HTMLView",
            "description": "",
            "description_tooltip": null,
            "layout": "IPY_MODEL_31c587e53b5d43898482199b08ed810e",
            "placeholder": "​",
            "style": "IPY_MODEL_8bc993f16fce4ad5bf33a136e04f5d95",
            "value": " 15/15 [02:19&lt;00:00,  7.95s/it]"
          }
        },
        "291e68522b3c4b97947111bfeb6326d8": {
          "model_module": "@jupyter-widgets/base",
          "model_name": "LayoutModel",
          "model_module_version": "1.2.0",
          "state": {
            "_model_module": "@jupyter-widgets/base",
            "_model_module_version": "1.2.0",
            "_model_name": "LayoutModel",
            "_view_count": null,
            "_view_module": "@jupyter-widgets/base",
            "_view_module_version": "1.2.0",
            "_view_name": "LayoutView",
            "align_content": null,
            "align_items": null,
            "align_self": null,
            "border": null,
            "bottom": null,
            "display": null,
            "flex": null,
            "flex_flow": null,
            "grid_area": null,
            "grid_auto_columns": null,
            "grid_auto_flow": null,
            "grid_auto_rows": null,
            "grid_column": null,
            "grid_gap": null,
            "grid_row": null,
            "grid_template_areas": null,
            "grid_template_columns": null,
            "grid_template_rows": null,
            "height": null,
            "justify_content": null,
            "justify_items": null,
            "left": null,
            "margin": null,
            "max_height": null,
            "max_width": null,
            "min_height": null,
            "min_width": null,
            "object_fit": null,
            "object_position": null,
            "order": null,
            "overflow": null,
            "overflow_x": null,
            "overflow_y": null,
            "padding": null,
            "right": null,
            "top": null,
            "visibility": null,
            "width": null
          }
        },
        "903099c334a2487aafacf33d243078a0": {
          "model_module": "@jupyter-widgets/base",
          "model_name": "LayoutModel",
          "model_module_version": "1.2.0",
          "state": {
            "_model_module": "@jupyter-widgets/base",
            "_model_module_version": "1.2.0",
            "_model_name": "LayoutModel",
            "_view_count": null,
            "_view_module": "@jupyter-widgets/base",
            "_view_module_version": "1.2.0",
            "_view_name": "LayoutView",
            "align_content": null,
            "align_items": null,
            "align_self": null,
            "border": null,
            "bottom": null,
            "display": null,
            "flex": null,
            "flex_flow": null,
            "grid_area": null,
            "grid_auto_columns": null,
            "grid_auto_flow": null,
            "grid_auto_rows": null,
            "grid_column": null,
            "grid_gap": null,
            "grid_row": null,
            "grid_template_areas": null,
            "grid_template_columns": null,
            "grid_template_rows": null,
            "height": null,
            "justify_content": null,
            "justify_items": null,
            "left": null,
            "margin": null,
            "max_height": null,
            "max_width": null,
            "min_height": null,
            "min_width": null,
            "object_fit": null,
            "object_position": null,
            "order": null,
            "overflow": null,
            "overflow_x": null,
            "overflow_y": null,
            "padding": null,
            "right": null,
            "top": null,
            "visibility": null,
            "width": null
          }
        },
        "df93b042592d49b8a83d886485f1487d": {
          "model_module": "@jupyter-widgets/controls",
          "model_name": "DescriptionStyleModel",
          "model_module_version": "1.5.0",
          "state": {
            "_model_module": "@jupyter-widgets/controls",
            "_model_module_version": "1.5.0",
            "_model_name": "DescriptionStyleModel",
            "_view_count": null,
            "_view_module": "@jupyter-widgets/base",
            "_view_module_version": "1.2.0",
            "_view_name": "StyleView",
            "description_width": ""
          }
        },
        "f650cb0d3abe46399bf888eeb0af6937": {
          "model_module": "@jupyter-widgets/base",
          "model_name": "LayoutModel",
          "model_module_version": "1.2.0",
          "state": {
            "_model_module": "@jupyter-widgets/base",
            "_model_module_version": "1.2.0",
            "_model_name": "LayoutModel",
            "_view_count": null,
            "_view_module": "@jupyter-widgets/base",
            "_view_module_version": "1.2.0",
            "_view_name": "LayoutView",
            "align_content": null,
            "align_items": null,
            "align_self": null,
            "border": null,
            "bottom": null,
            "display": null,
            "flex": null,
            "flex_flow": null,
            "grid_area": null,
            "grid_auto_columns": null,
            "grid_auto_flow": null,
            "grid_auto_rows": null,
            "grid_column": null,
            "grid_gap": null,
            "grid_row": null,
            "grid_template_areas": null,
            "grid_template_columns": null,
            "grid_template_rows": null,
            "height": null,
            "justify_content": null,
            "justify_items": null,
            "left": null,
            "margin": null,
            "max_height": null,
            "max_width": null,
            "min_height": null,
            "min_width": null,
            "object_fit": null,
            "object_position": null,
            "order": null,
            "overflow": null,
            "overflow_x": null,
            "overflow_y": null,
            "padding": null,
            "right": null,
            "top": null,
            "visibility": null,
            "width": null
          }
        },
        "ccbe0753b1df4abda2c1aee9257adb7f": {
          "model_module": "@jupyter-widgets/controls",
          "model_name": "ProgressStyleModel",
          "model_module_version": "1.5.0",
          "state": {
            "_model_module": "@jupyter-widgets/controls",
            "_model_module_version": "1.5.0",
            "_model_name": "ProgressStyleModel",
            "_view_count": null,
            "_view_module": "@jupyter-widgets/base",
            "_view_module_version": "1.2.0",
            "_view_name": "StyleView",
            "bar_color": null,
            "description_width": ""
          }
        },
        "31c587e53b5d43898482199b08ed810e": {
          "model_module": "@jupyter-widgets/base",
          "model_name": "LayoutModel",
          "model_module_version": "1.2.0",
          "state": {
            "_model_module": "@jupyter-widgets/base",
            "_model_module_version": "1.2.0",
            "_model_name": "LayoutModel",
            "_view_count": null,
            "_view_module": "@jupyter-widgets/base",
            "_view_module_version": "1.2.0",
            "_view_name": "LayoutView",
            "align_content": null,
            "align_items": null,
            "align_self": null,
            "border": null,
            "bottom": null,
            "display": null,
            "flex": null,
            "flex_flow": null,
            "grid_area": null,
            "grid_auto_columns": null,
            "grid_auto_flow": null,
            "grid_auto_rows": null,
            "grid_column": null,
            "grid_gap": null,
            "grid_row": null,
            "grid_template_areas": null,
            "grid_template_columns": null,
            "grid_template_rows": null,
            "height": null,
            "justify_content": null,
            "justify_items": null,
            "left": null,
            "margin": null,
            "max_height": null,
            "max_width": null,
            "min_height": null,
            "min_width": null,
            "object_fit": null,
            "object_position": null,
            "order": null,
            "overflow": null,
            "overflow_x": null,
            "overflow_y": null,
            "padding": null,
            "right": null,
            "top": null,
            "visibility": null,
            "width": null
          }
        },
        "8bc993f16fce4ad5bf33a136e04f5d95": {
          "model_module": "@jupyter-widgets/controls",
          "model_name": "DescriptionStyleModel",
          "model_module_version": "1.5.0",
          "state": {
            "_model_module": "@jupyter-widgets/controls",
            "_model_module_version": "1.5.0",
            "_model_name": "DescriptionStyleModel",
            "_view_count": null,
            "_view_module": "@jupyter-widgets/base",
            "_view_module_version": "1.2.0",
            "_view_name": "StyleView",
            "description_width": ""
          }
        }
      }
    }
  },
  "cells": [
    {
      "cell_type": "markdown",
      "source": [
        "References: https://huggingface.co/blog/4bit-transformers-bitsandbytes"
      ],
      "metadata": {
        "id": "LopqFgh8slxt"
      }
    },
    {
      "cell_type": "markdown",
      "source": [
        "### Install dependencies"
      ],
      "metadata": {
        "id": "qJP86bjEss1g"
      }
    },
    {
      "cell_type": "code",
      "source": [
        "!pip install -q -U bitsandbytes\n",
        "!pip install -q -U git+https://github.com/huggingface/transformers.git\n",
        "!pip install -q -U git+https://github.com/huggingface/peft.git\n",
        "!pip install -q -U git+https://github.com/huggingface/accelerate.git\n",
        "!pip install -q -U einops\n",
        "!pip install -q -U safetensors"
      ],
      "metadata": {
        "colab": {
          "base_uri": "https://localhost:8080/"
        },
        "id": "NWK0fjB992BH",
        "outputId": "a978b2bc-7160-4ed2-e991-e7efdce3ae1f"
      },
      "execution_count": 1,
      "outputs": [
        {
          "output_type": "stream",
          "name": "stdout",
          "text": [
            "  Installing build dependencies ... \u001b[?25l\u001b[?25hdone\n",
            "  Getting requirements to build wheel ... \u001b[?25l\u001b[?25hdone\n",
            "  Preparing metadata (pyproject.toml) ... \u001b[?25l\u001b[?25hdone\n",
            "  Installing build dependencies ... \u001b[?25l\u001b[?25hdone\n",
            "  Getting requirements to build wheel ... \u001b[?25l\u001b[?25hdone\n",
            "  Preparing metadata (pyproject.toml) ... \u001b[?25l\u001b[?25hdone\n",
            "  Installing build dependencies ... \u001b[?25l\u001b[?25hdone\n",
            "  Getting requirements to build wheel ... \u001b[?25l\u001b[?25hdone\n",
            "  Preparing metadata (pyproject.toml) ... \u001b[?25l\u001b[?25hdone\n"
          ]
        }
      ]
    },
    {
      "cell_type": "markdown",
      "source": [
        "### bitsandbytes configs"
      ],
      "metadata": {
        "id": "3B7SWfLrtFpH"
      }
    },
    {
      "cell_type": "markdown",
      "source": [
        "The 4bit integration comes with 2 different quantization types: FP4 and NF4. The NF4 dtype stands for Normal Float 4 and is introduced in the QLoRA paper\n",
        "\n",
        "You can switch between these two dtype using bnb_4bit_quant_type from BitsAndBytesConfig. By default, the FP4 quantization is used.\n",
        "\n",
        "This saves more memory at no additional performance - from our empirical observations, this enables fine-tuning llama-13b model on an NVIDIA-T4 16GB with a sequence length of 1024, batch size of 1 and gradient accumulation steps of 4.\n",
        "\n",
        "To enable this feature, simply add `bnb_4bit_use_double_quant=True` when creating your quantization config!\n",
        "\n",
        "(text from HF colab)\n",
        "\n"
      ],
      "metadata": {
        "id": "FRhsJEAstiqf"
      }
    },
    {
      "cell_type": "markdown",
      "source": [
        "We will used NF4!"
      ],
      "metadata": {
        "id": "F4tp_hhhu55l"
      }
    },
    {
      "cell_type": "code",
      "source": [
        "import warnings\n",
        "warnings.filterwarnings('ignore')"
      ],
      "metadata": {
        "id": "C-oK7aV5icLL"
      },
      "execution_count": 2,
      "outputs": []
    },
    {
      "cell_type": "code",
      "source": [
        "import torch\n",
        "from transformers import BitsAndBytesConfig\n",
        "\n",
        "quantization_config = BitsAndBytesConfig(\n",
        "    load_in_4bit=True,\n",
        "    bnb_4bit_compute_dtype=torch.float16,\n",
        "    bnb_4bit_quant_type=\"nf4\",\n",
        "    bnb_4bit_use_double_quant=True,\n",
        ")"
      ],
      "metadata": {
        "id": "bSN4W1F-tKy7"
      },
      "execution_count": 3,
      "outputs": []
    },
    {
      "cell_type": "markdown",
      "source": [
        "### Load model and pipeline"
      ],
      "metadata": {
        "id": "8GdYFG4NsxWq"
      }
    },
    {
      "cell_type": "code",
      "execution_count": 4,
      "metadata": {
        "id": "nCbmMPQtoNyO"
      },
      "outputs": [],
      "source": [
        "# My version with smaller chunks on safetensors for low RAM environments\n",
        "model_id = \"vilsonrodrigues/falcon-7b-instruct-sharded\"\n",
        "# model_id = \"tiiuae/falcon-7b-instruct\"\n",
        "\n",
        "from transformers import AutoModelForCausalLM, AutoTokenizer,pipeline"
      ]
    },
    {
      "cell_type": "code",
      "source": [
        "model_4bit = AutoModelForCausalLM.from_pretrained(\n",
        "        model_id,\n",
        "        device_map=\"auto\",\n",
        "        quantization_config=quantization_config,\n",
        "        trust_remote_code=True)\n",
        "tokenizer = AutoTokenizer.from_pretrained(model_id)"
      ],
      "metadata": {
        "colab": {
          "base_uri": "https://localhost:8080/",
          "height": 312,
          "referenced_widgets": [
            "55bc531b51be443f8211ea6f7823c18b",
            "40f0b746ddc049feb0453c8979abad72",
            "f11e6bc68c4e483c9bd02a91136d60b8",
            "fd5c1b1a26824dcabb68630e928b15cc",
            "291e68522b3c4b97947111bfeb6326d8",
            "903099c334a2487aafacf33d243078a0",
            "df93b042592d49b8a83d886485f1487d",
            "f650cb0d3abe46399bf888eeb0af6937",
            "ccbe0753b1df4abda2c1aee9257adb7f",
            "31c587e53b5d43898482199b08ed810e",
            "8bc993f16fce4ad5bf33a136e04f5d95"
          ]
        },
        "id": "ewiOVKpZ-fnX",
        "outputId": "6225eb88-862f-49dc-ee48-304d8488edc7"
      },
      "execution_count": 5,
      "outputs": [
        {
          "output_type": "stream",
          "name": "stdout",
          "text": [
            "\n",
            "===================================BUG REPORT===================================\n",
            "Welcome to bitsandbytes. For bug reports, please run\n",
            "\n",
            "python -m bitsandbytes\n",
            "\n",
            " and submit this information together with your error trace to: https://github.com/TimDettmers/bitsandbytes/issues\n",
            "================================================================================\n",
            "bin /usr/local/lib/python3.10/dist-packages/bitsandbytes/libbitsandbytes_cuda118.so\n",
            "CUDA_SETUP: WARNING! libcudart.so not found in any environmental path. Searching in backup paths...\n",
            "CUDA SETUP: CUDA runtime path found: /usr/local/cuda/lib64/libcudart.so\n",
            "CUDA SETUP: Highest compute capability among GPUs detected: 7.5\n",
            "CUDA SETUP: Detected CUDA version 118\n",
            "CUDA SETUP: Loading binary /usr/local/lib/python3.10/dist-packages/bitsandbytes/libbitsandbytes_cuda118.so...\n"
          ]
        },
        {
          "output_type": "display_data",
          "data": {
            "text/plain": [
              "Loading checkpoint shards:   0%|          | 0/15 [00:00<?, ?it/s]"
            ],
            "application/vnd.jupyter.widget-view+json": {
              "version_major": 2,
              "version_minor": 0,
              "model_id": "55bc531b51be443f8211ea6f7823c18b"
            }
          },
          "metadata": {}
        }
      ]
    },
    {
      "cell_type": "code",
      "source": [
        "!pip install xformers -q"
      ],
      "metadata": {
        "id": "30HVdqsI8f0O"
      },
      "execution_count": 6,
      "outputs": []
    },
    {
      "cell_type": "code",
      "source": [],
      "metadata": {
        "id": "FWjNo6kO-AP6"
      },
      "execution_count": 6,
      "outputs": []
    },
    {
      "cell_type": "markdown",
      "source": [
        "### Use with LangChain"
      ],
      "metadata": {
        "id": "SlauSfZlrpvO"
      }
    },
    {
      "cell_type": "code",
      "source": [
        "# Some error in colab. fix with\n",
        "import locale\n",
        "locale.getpreferredencoding = lambda: \"UTF-8\""
      ],
      "metadata": {
        "id": "5LFP9w_wAOal"
      },
      "execution_count": 7,
      "outputs": []
    },
    {
      "cell_type": "code",
      "source": [
        "!pip install langchain"
      ],
      "metadata": {
        "id": "jOY1YDwIrtK_",
        "colab": {
          "base_uri": "https://localhost:8080/"
        },
        "outputId": "316378de-6a62-40d3-f324-82c8a53c9558"
      },
      "execution_count": 8,
      "outputs": [
        {
          "output_type": "stream",
          "name": "stdout",
          "text": [
            "Looking in indexes: https://pypi.org/simple, https://us-python.pkg.dev/colab-wheels/public/simple/\n",
            "Requirement already satisfied: langchain in /usr/local/lib/python3.10/dist-packages (0.0.215)\n",
            "Requirement already satisfied: PyYAML>=5.4.1 in /usr/local/lib/python3.10/dist-packages (from langchain) (6.0)\n",
            "Requirement already satisfied: SQLAlchemy<3,>=1.4 in /usr/local/lib/python3.10/dist-packages (from langchain) (2.0.16)\n",
            "Requirement already satisfied: aiohttp<4.0.0,>=3.8.3 in /usr/local/lib/python3.10/dist-packages (from langchain) (3.8.4)\n",
            "Requirement already satisfied: async-timeout<5.0.0,>=4.0.0 in /usr/local/lib/python3.10/dist-packages (from langchain) (4.0.2)\n",
            "Requirement already satisfied: dataclasses-json<0.6.0,>=0.5.7 in /usr/local/lib/python3.10/dist-packages (from langchain) (0.5.8)\n",
            "Requirement already satisfied: langchainplus-sdk>=0.0.17 in /usr/local/lib/python3.10/dist-packages (from langchain) (0.0.17)\n",
            "Requirement already satisfied: numexpr<3.0.0,>=2.8.4 in /usr/local/lib/python3.10/dist-packages (from langchain) (2.8.4)\n",
            "Requirement already satisfied: numpy<2,>=1 in /usr/local/lib/python3.10/dist-packages (from langchain) (1.22.4)\n",
            "Requirement already satisfied: openapi-schema-pydantic<2.0,>=1.2 in /usr/local/lib/python3.10/dist-packages (from langchain) (1.2.4)\n",
            "Requirement already satisfied: pydantic<2,>=1 in /usr/local/lib/python3.10/dist-packages (from langchain) (1.10.9)\n",
            "Requirement already satisfied: requests<3,>=2 in /usr/local/lib/python3.10/dist-packages (from langchain) (2.27.1)\n",
            "Requirement already satisfied: tenacity<9.0.0,>=8.1.0 in /usr/local/lib/python3.10/dist-packages (from langchain) (8.2.2)\n",
            "Requirement already satisfied: attrs>=17.3.0 in /usr/local/lib/python3.10/dist-packages (from aiohttp<4.0.0,>=3.8.3->langchain) (23.1.0)\n",
            "Requirement already satisfied: charset-normalizer<4.0,>=2.0 in /usr/local/lib/python3.10/dist-packages (from aiohttp<4.0.0,>=3.8.3->langchain) (2.0.12)\n",
            "Requirement already satisfied: multidict<7.0,>=4.5 in /usr/local/lib/python3.10/dist-packages (from aiohttp<4.0.0,>=3.8.3->langchain) (6.0.4)\n",
            "Requirement already satisfied: yarl<2.0,>=1.0 in /usr/local/lib/python3.10/dist-packages (from aiohttp<4.0.0,>=3.8.3->langchain) (1.9.2)\n",
            "Requirement already satisfied: frozenlist>=1.1.1 in /usr/local/lib/python3.10/dist-packages (from aiohttp<4.0.0,>=3.8.3->langchain) (1.3.3)\n",
            "Requirement already satisfied: aiosignal>=1.1.2 in /usr/local/lib/python3.10/dist-packages (from aiohttp<4.0.0,>=3.8.3->langchain) (1.3.1)\n",
            "Requirement already satisfied: marshmallow<4.0.0,>=3.3.0 in /usr/local/lib/python3.10/dist-packages (from dataclasses-json<0.6.0,>=0.5.7->langchain) (3.19.0)\n",
            "Requirement already satisfied: marshmallow-enum<2.0.0,>=1.5.1 in /usr/local/lib/python3.10/dist-packages (from dataclasses-json<0.6.0,>=0.5.7->langchain) (1.5.1)\n",
            "Requirement already satisfied: typing-inspect>=0.4.0 in /usr/local/lib/python3.10/dist-packages (from dataclasses-json<0.6.0,>=0.5.7->langchain) (0.9.0)\n",
            "Requirement already satisfied: typing-extensions>=4.2.0 in /usr/local/lib/python3.10/dist-packages (from pydantic<2,>=1->langchain) (4.6.3)\n",
            "Requirement already satisfied: urllib3<1.27,>=1.21.1 in /usr/local/lib/python3.10/dist-packages (from requests<3,>=2->langchain) (1.26.16)\n",
            "Requirement already satisfied: certifi>=2017.4.17 in /usr/local/lib/python3.10/dist-packages (from requests<3,>=2->langchain) (2023.5.7)\n",
            "Requirement already satisfied: idna<4,>=2.5 in /usr/local/lib/python3.10/dist-packages (from requests<3,>=2->langchain) (3.4)\n",
            "Requirement already satisfied: greenlet!=0.4.17 in /usr/local/lib/python3.10/dist-packages (from SQLAlchemy<3,>=1.4->langchain) (2.0.2)\n",
            "Requirement already satisfied: packaging>=17.0 in /usr/local/lib/python3.10/dist-packages (from marshmallow<4.0.0,>=3.3.0->dataclasses-json<0.6.0,>=0.5.7->langchain) (23.1)\n",
            "Requirement already satisfied: mypy-extensions>=0.3.0 in /usr/local/lib/python3.10/dist-packages (from typing-inspect>=0.4.0->dataclasses-json<0.6.0,>=0.5.7->langchain) (1.0.0)\n"
          ]
        }
      ]
    },
    {
      "cell_type": "code",
      "source": [
        "from langchain import HuggingFacePipeline"
      ],
      "metadata": {
        "id": "ZpnYgcStAbNu"
      },
      "execution_count": 9,
      "outputs": []
    },
    {
      "cell_type": "code",
      "source": [
        "template = '''\n",
        "User: Can you identify the security issues in the following smart contract code?\n",
        "\n",
        "Code:\n",
        "{code}\n",
        "\n",
        "Assistant: Sure! Let me analyze the smart contract code for security issues.\n",
        "'''"
      ],
      "metadata": {
        "id": "hvxAHyPwXwK5"
      },
      "execution_count": 10,
      "outputs": []
    },
    {
      "cell_type": "code",
      "source": [
        "code = '''\n",
        "// SPDX-License-Identifier: MIT\n",
        "pragma solidity ^0.8.17;\n",
        "\n",
        "contract CrowdFunding {\n",
        "    struct Campaign {\n",
        "        address owner;\n",
        "        string title;\n",
        "        string description;\n",
        "        uint256 target;\n",
        "        uint256 deadline;\n",
        "        uint256 amountCollected;\n",
        "        string image;\n",
        "        address[] donators;\n",
        "        uint256[] donations;\n",
        "    }\n",
        "\n",
        "    mapping(uint256 => Campaign) public campaigns;\n",
        "\n",
        "    uint256 public numberOfCampaigns = 0;\n",
        "\n",
        "    function createCampaign(\n",
        "        address _owner,\n",
        "        string memory _title,\n",
        "        string memory _description,\n",
        "        uint256 _target,\n",
        "        uint256 _deadline,\n",
        "        string memory _image\n",
        "    ) public returns (uint256) {\n",
        "        Campaign storage campaign = campaigns[numberOfCampaigns];\n",
        "\n",
        "        require(\n",
        "            campaign.deadline < block.timestamp,\n",
        "            \"The deadline should be a date in the future.\"\n",
        "        );\n",
        "\n",
        "        campaign.owner = _owner;\n",
        "        campaign.title = _title;\n",
        "        campaign.description = _description;\n",
        "        campaign.target = _target;\n",
        "        campaign.deadline = _deadline;\n",
        "        campaign.amountCollected = 0;\n",
        "        campaign.image = _image;\n",
        "\n",
        "        numberOfCampaigns++;\n",
        "\n",
        "        return numberOfCampaigns - 1;\n",
        "    }\n",
        "\n",
        "    function donateToCampaign(uint256 _id) public payable {\n",
        "        uint256 amount = msg.value;\n",
        "\n",
        "        Campaign storage campaign = campaigns[_id];\n",
        "\n",
        "        campaign.donators.push(msg.sender);\n",
        "        campaign.donations.push(amount);\n",
        "\n",
        "        campaign.amountCollected = campaign.amountCollected + amount;\n",
        "    }\n",
        "\n",
        "    function withdraw(uint256 _id) public {\n",
        "        Campaign storage campaign = campaigns[_id];\n",
        "\n",
        "        require(\n",
        "            campaign.owner == msg.sender,\n",
        "            \"Only the owner of the campaign can withdraw the funds.\"\n",
        "        );\n",
        "\n",
        "        require(\n",
        "            campaign.amountCollected >= campaign.target,\n",
        "            \"The campaign has not reached its target yet.\"\n",
        "        );\n",
        "\n",
        "        require(\n",
        "            campaign.deadline < block.timestamp,\n",
        "            \"The deadline has not passed yet.\"\n",
        "        );\n",
        "\n",
        "        (bool sent, ) = payable(campaign.owner).call{\n",
        "            value: campaign.amountCollected\n",
        "        }(\"\");\n",
        "\n",
        "        if (sent) {\n",
        "            campaign.amountCollected = 0;\n",
        "        }\n",
        "    }\n",
        "\n",
        "    function getCampaign(uint256 id)\n",
        "        public\n",
        "        view\n",
        "        returns (\n",
        "            address,\n",
        "            string memory,\n",
        "            string memory,\n",
        "            uint256,\n",
        "            uint256,\n",
        "            uint256,\n",
        "            string memory\n",
        "        )\n",
        "    {\n",
        "        Campaign memory campaign = campaigns[id];\n",
        "        return (\n",
        "            campaign.owner,\n",
        "            campaign.title,\n",
        "            campaign.description,\n",
        "            campaign.target,\n",
        "            campaign.deadline,\n",
        "            campaign.amountCollected,\n",
        "            campaign.image\n",
        "        );\n",
        "    }\n",
        "}\n",
        "'''"
      ],
      "metadata": {
        "id": "JPojCklXXwi8"
      },
      "execution_count": 11,
      "outputs": []
    },
    {
      "cell_type": "code",
      "source": [
        "import torch\n",
        "import transformers\n",
        "\n",
        "pipeline = transformers.pipeline(\n",
        "        \"text-generation\",\n",
        "        model=model_4bit,\n",
        "        tokenizer=tokenizer,\n",
        "        use_cache=True,\n",
        "        device_map=\"auto\",\n",
        "        max_length=1500,\n",
        "        do_sample=True,\n",
        "        temperature=0.9,\n",
        "        top_k=10,\n",
        "        num_return_sequences=1,\n",
        "        eos_token_id=tokenizer.eos_token_id,\n",
        "        pad_token_id=tokenizer.eos_token_id,\n",
        ")\n",
        "\n",
        "llm = HuggingFacePipeline(pipeline=pipeline)\n"
      ],
      "metadata": {
        "id": "Of3EOLBYYw7h",
        "colab": {
          "base_uri": "https://localhost:8080/"
        },
        "outputId": "79d593b2-8a48-4475-bdb3-ab2330ecbc14"
      },
      "execution_count": 12,
      "outputs": [
        {
          "output_type": "stream",
          "name": "stderr",
          "text": [
            "The model 'RWForCausalLM' is not supported for text-generation. Supported models are ['BartForCausalLM', 'BertLMHeadModel', 'BertGenerationDecoder', 'BigBirdForCausalLM', 'BigBirdPegasusForCausalLM', 'BioGptForCausalLM', 'BlenderbotForCausalLM', 'BlenderbotSmallForCausalLM', 'BloomForCausalLM', 'CamembertForCausalLM', 'CodeGenForCausalLM', 'CpmAntForCausalLM', 'CTRLLMHeadModel', 'Data2VecTextForCausalLM', 'ElectraForCausalLM', 'ErnieForCausalLM', 'GitForCausalLM', 'GPT2LMHeadModel', 'GPT2LMHeadModel', 'GPTBigCodeForCausalLM', 'GPTNeoForCausalLM', 'GPTNeoXForCausalLM', 'GPTNeoXJapaneseForCausalLM', 'GPTJForCausalLM', 'LlamaForCausalLM', 'MarianForCausalLM', 'MBartForCausalLM', 'MegaForCausalLM', 'MegatronBertForCausalLM', 'MvpForCausalLM', 'OpenLlamaForCausalLM', 'OpenAIGPTLMHeadModel', 'OPTForCausalLM', 'PegasusForCausalLM', 'PLBartForCausalLM', 'ProphetNetForCausalLM', 'QDQBertLMHeadModel', 'ReformerModelWithLMHead', 'RemBertForCausalLM', 'RobertaForCausalLM', 'RobertaPreLayerNormForCausalLM', 'RoCBertForCausalLM', 'RoFormerForCausalLM', 'RwkvForCausalLM', 'Speech2Text2ForCausalLM', 'TransfoXLLMHeadModel', 'TrOCRForCausalLM', 'XGLMForCausalLM', 'XLMWithLMHeadModel', 'XLMProphetNetForCausalLM', 'XLMRobertaForCausalLM', 'XLMRobertaXLForCausalLM', 'XLNetLMHeadModel', 'XmodForCausalLM'].\n"
          ]
        }
      ]
    },
    {
      "cell_type": "code",
      "source": [
        "from langchain import PromptTemplate, LLMChain\n",
        "\n",
        "prompt = PromptTemplate(template=template, input_variables=[\"code\"])\n",
        "llm_chain = LLMChain(prompt=prompt, llm=llm)"
      ],
      "metadata": {
        "id": "qHPOaQ72Xy2S"
      },
      "execution_count": 13,
      "outputs": []
    },
    {
      "cell_type": "code",
      "source": [
        "result = llm_chain.run(code)\n",
        "print(result)"
      ],
      "metadata": {
        "id": "MZKH_4G0X9MO",
        "colab": {
          "base_uri": "https://localhost:8080/"
        },
        "outputId": "637a755a-d1e5-4ee6-f3e8-3b085afcca9e"
      },
      "execution_count": 14,
      "outputs": [
        {
          "output_type": "stream",
          "name": "stdout",
          "text": [
            "\n",
            "1. Access control: The `owner` field in the `Campaign` struct allows any wallet address to call and interact with the associated `donations` array. While this might not be intentional, it could lead to unauthorized access to sensitive data or funds. A better way to handle access control would be to implement a more granular access control system, where each user or wallet only has access to the specific data needed for their interaction.\n",
            "\n",
            "2. Reentrancy: The function `withdraw` is used to update the campaign amount collected by the sender. However, this function could potentially be exploited by attackers, who could send a large amount of funds to the sender and then attempt to withdraw the funds themselves. To prevent this, the `withdraw` function should use two-factor authentication, such as a password or a signature, to ensure that only the owner of the campaign can withdraw funds.\n",
            "\n",
            "3. Reentrancy: The function `withdraw` has a `deadline` parameter. If this deadline has passed, an attacker could potentially withdraw the funds from the campaign. This could lead to a malicious attempt to disrupt the campaign or to steal funds from the associated wallet. To prevent reentrancy attacks, this parameter should also include a checksum or other security measure to ensure that the deadline has not been tampered with.\n",
            "\n",
            "4. Reentrancy: The function `withdraw` could potentially be exploited by attackers who could send a large amount of funds to the sender, leading to the campaign owner losing all their funds. A better way to prevent this would be to add a rate limit on the withdrawal function, so that only a certain amount of funds can be withdrawn at once. \n",
            "\n",
            "5. Reentrancy: The function `withdraw` has a `campaign.id` parameter. If an unauthorized user were to change the `id` of a campaign and then attempt to withdraw funds, they could potentially steal funds from the associated wallet. To prevent unauthorized access, this parameter should also include a checksum or other security measure to ensure that the `id` has not been tampered with.\n",
            "\n",
            "6. Reentrancy: The `withdraw` function could potentially be exploited by attackers who could withdraw all the funds from the campaign, leaving it with a negative balance. To prevent this, the function should include a check to ensure that the amount collected is greater than the campaign amount, before allowing any withdrawal.\n",
            "\n",
            "7. Reentrancy: The function `withdraw` allows any wallet address to withdraw the full balance of the campaign. This could potentially be exploited by attackers who could withdraw the funds and then attempt to donate them back to the campaign, effectively stealing the funds from the campaign and causing its collapse. To prevent this, the function should include a checksum or other security measure to ensure that the funds withdrawn are valid.\n",
            "\n",
            "8. Reentrancy: The withdrawal function has a `deadline` parameter, which allows an attacker to potentially steal funds from the campaign if they send a large amount of funds to the sender before the deadline. To prevent this, the function should include a checksum or other security measure to ensure that the deadline has not been tampered with.\n"
          ]
        }
      ]
    },
    {
      "cell_type": "code",
      "source": [
        "with open('audit_logs.txt', 'w') as f:\n",
        "  print(result, file=f)"
      ],
      "metadata": {
        "id": "eT7bHNrqYBMn"
      },
      "execution_count": 15,
      "outputs": []
    },
    {
      "cell_type": "code",
      "source": [],
      "metadata": {
        "id": "pd46VckmZfNg"
      },
      "execution_count": 15,
      "outputs": []
    }
  ]
}