{
 "cells": [
  {
   "cell_type": "code",
   "execution_count": 3,
   "id": "1aa83635-2116-464f-af16-cc6c83024106",
   "metadata": {
    "tags": []
   },
   "outputs": [
    {
     "name": "stdout",
     "output_type": "stream",
     "text": [
      "\u001b[31mERROR: pip's dependency resolver does not currently take into account all the packages that are installed. This behaviour is the source of the following dependency conflicts.\n",
      "spyder 4.0.1 requires pyqt5<5.13; python_version >= \"3\", which is not installed.\n",
      "spyder 4.0.1 requires pyqtwebengine<5.13; python_version >= \"3\", which is not installed.\n",
      "pytest-astropy 0.8.0 requires pytest-cov>=2.0, which is not installed.\n",
      "pytest-astropy 0.8.0 requires pytest-filter-subpackage>=0.1, which is not installed.\n",
      "conda 22.9.0 requires ruamel_yaml_conda>=0.11.14, which is not installed.\n",
      "spyder 4.0.1 requires jedi==0.14.1, but you have jedi 0.18.2 which is incompatible.\n",
      "sparkmagic 0.20.4 requires nest-asyncio==1.5.5, but you have nest-asyncio 1.5.6 which is incompatible.\n",
      "docker-compose 1.29.2 requires jsonschema<4,>=2.5.1, but you have jsonschema 4.17.3 which is incompatible.\n",
      "docker-compose 1.29.2 requires PyYAML<6,>=3.10, but you have pyyaml 6.0 which is incompatible.\n",
      "awscli 1.27.111 requires botocore==1.29.111, but you have botocore 1.29.156 which is incompatible.\n",
      "awscli 1.27.111 requires PyYAML<5.5,>=3.10, but you have pyyaml 6.0 which is incompatible.\n",
      "awscli 1.27.111 requires rsa<4.8,>=3.1.2, but you have rsa 4.9 which is incompatible.\n",
      "aiobotocore 2.4.2 requires botocore<1.27.60,>=1.27.59, but you have botocore 1.29.156 which is incompatible.\u001b[0m\u001b[31m\n",
      "\u001b[0m\u001b[33mWARNING: Running pip as the 'root' user can result in broken permissions and conflicting behaviour with the system package manager. It is recommended to use a virtual environment instead: https://pip.pypa.io/warnings/venv\u001b[0m\u001b[33m\n",
      "\u001b[0m\n",
      "\u001b[1m[\u001b[0m\u001b[34;49mnotice\u001b[0m\u001b[1;39;49m]\u001b[0m\u001b[39;49m A new release of pip is available: \u001b[0m\u001b[31;49m23.0.1\u001b[0m\u001b[39;49m -> \u001b[0m\u001b[32;49m23.1.2\u001b[0m\n",
      "\u001b[1m[\u001b[0m\u001b[34;49mnotice\u001b[0m\u001b[1;39;49m]\u001b[0m\u001b[39;49m To update, run: \u001b[0m\u001b[32;49mpip install --upgrade pip\u001b[0m\n"
     ]
    }
   ],
   "source": [
    "!pip install sagemaker --quiet --upgrade --force-reinstall"
   ]
  },
  {
   "cell_type": "code",
   "execution_count": null,
   "id": "d9f0a40a-d495-4dfc-81b4-41fc5bc4b4a9",
   "metadata": {},
   "outputs": [],
   "source": []
  },
  {
   "cell_type": "code",
   "execution_count": 51,
   "id": "a25f63de-687a-428b-92e7-8e2131b792ef",
   "metadata": {
    "tags": []
   },
   "outputs": [],
   "source": [
    "import json\n",
    "import sagemaker\n",
    "import boto3\n",
    "import os\n",
    "from sagemaker.huggingface import HuggingFaceModel, get_huggingface_llm_image_uri"
   ]
  },
  {
   "cell_type": "code",
   "execution_count": null,
   "id": "bae0519a-1032-4e6b-9f84-f8ef3b154fd1",
   "metadata": {},
   "outputs": [],
   "source": []
  },
  {
   "cell_type": "code",
   "execution_count": 58,
   "id": "b4e63323-d60f-4b9a-a130-443ce772e10f",
   "metadata": {
    "tags": []
   },
   "outputs": [],
   "source": [
    "os.environ['AWS_DEFAULT_REGION'] = 'us-west-2'  # ml.g5.2xlarge\n",
    "#os.environ['AWS_DEFAULT_REGION'] = 'us-east-1' # ml.g5.48xlarge"
   ]
  },
  {
   "cell_type": "code",
   "execution_count": 60,
   "id": "a4880416-9379-4c8e-adb3-d01b5b3d60e1",
   "metadata": {
    "tags": []
   },
   "outputs": [
    {
     "data": {
      "text/plain": [
       "'us-west-2'"
      ]
     },
     "execution_count": 60,
     "metadata": {},
     "output_type": "execute_result"
    }
   ],
   "source": [
    "region = boto3.Session().region_name\n",
    "region"
   ]
  },
  {
   "cell_type": "code",
   "execution_count": null,
   "id": "9cfc2220-c85f-469c-821c-455e450cbd27",
   "metadata": {
    "tags": []
   },
   "outputs": [],
   "source": []
  },
  {
   "cell_type": "code",
   "execution_count": 96,
   "id": "ba0d664d-f3a4-40f8-9968-2054b68cbe77",
   "metadata": {
    "tags": []
   },
   "outputs": [],
   "source": [
    "try:\n",
    "\trole = sagemaker.get_execution_role()\n",
    "except ValueError:\n",
    "\tiam = boto3.client('iam')\n",
    "\trole = iam.get_role(RoleName='sagemaker_execution_role')['Role']['Arn']\n",
    "\n",
    "# Hub Model configuration. https://huggingface.co/models\n",
    "hub = {\n",
    "\t'HF_MODEL_ID':'tiiuae/falcon-7b-instruct', \n",
    "    #'HF_MODEL_ID' : 'huggingface-llm-falcon-7b-instruct-bf16',\n",
    "\t'SM_NUM_GPUS': json.dumps(1)\n",
    "}\n",
    "\n",
    "endpoint_name = 'sm-contract-audit'"
   ]
  },
  {
   "cell_type": "code",
   "execution_count": 97,
   "id": "6eba070d-0a2d-434f-b209-93a79452241c",
   "metadata": {
    "tags": []
   },
   "outputs": [],
   "source": [
    "# create Hugging Face Model Class\n",
    "huggingface_model = HuggingFaceModel(\n",
    "\timage_uri=get_huggingface_llm_image_uri(\"huggingface\",version=\"0.8.2\"),\n",
    "\tenv=hub,\n",
    "\trole=role, \n",
    ")"
   ]
  },
  {
   "cell_type": "code",
   "execution_count": 98,
   "id": "ee5c68f0-c6e9-4b7c-b464-4b6282d50c8f",
   "metadata": {
    "tags": []
   },
   "outputs": [],
   "source": [
    "# from sagemaker.serverless import ServerlessInferenceConfig\n",
    "\n",
    "# # Specify MemorySizeInMB and MaxConcurrency in the serverless config object\n",
    "# serverless_config = ServerlessInferenceConfig(\n",
    "#     memory_size_in_mb=3072, max_concurrency=10, #3072, 4096, 5120, or 6144 . \n",
    "# )\n",
    "\n",
    "# # deploy the endpoint endpoint\n",
    "# predictor = huggingface_model.deploy(\n",
    "#     serverless_inference_config=serverless_config,\n",
    "#     endpoint_name=endpoint_name,\n",
    "# )"
   ]
  },
  {
   "cell_type": "code",
   "execution_count": 99,
   "id": "385c8ba0-6f81-4c24-80cf-caedc9e1996b",
   "metadata": {},
   "outputs": [],
   "source": [
    "# help(HuggingFaceModel)"
   ]
  },
  {
   "cell_type": "code",
   "execution_count": 100,
   "id": "b06bb62b-0382-4acb-9299-c9a191d82292",
   "metadata": {
    "tags": []
   },
   "outputs": [
    {
     "name": "stdout",
     "output_type": "stream",
     "text": [
      "--------------!"
     ]
    }
   ],
   "source": [
    "# deploy model to SageMaker Inference\n",
    "predictor = huggingface_model.deploy(\n",
    "\tinitial_instance_count=1,\n",
    "\tinstance_type=\"ml.g5.2xlarge\",  \n",
    "\tcontainer_startup_health_check_timeout=300,\n",
    "    endpoint_name=endpoint_name\n",
    "  )"
   ]
  },
  {
   "cell_type": "markdown",
   "id": "1745a0de-b1c5-4be7-aedb-e95ecc39fff0",
   "metadata": {},
   "source": [
    "### Endpoint Inference"
   ]
  },
  {
   "cell_type": "code",
   "execution_count": 159,
   "id": "6fddf710-16be-4dab-b83d-d2f041322358",
   "metadata": {},
   "outputs": [
    {
     "data": {
      "text/plain": [
       "[{'generated_text': 'My name is Julien and I like to \"play\" with my camera.\\nI\\'m a French photographer based in Paris. I\\''}]"
      ]
     },
     "execution_count": 159,
     "metadata": {},
     "output_type": "execute_result"
    }
   ],
   "source": [
    "# send request\n",
    "predictor.predict({\n",
    "\t\"inputs\": \"My name is Julien and I like to  \",\n",
    "})"
   ]
  },
  {
   "cell_type": "code",
   "execution_count": 163,
   "id": "8070a024-8fc3-4d9e-80e5-dc2289a671e3",
   "metadata": {},
   "outputs": [
    {
     "data": {
      "text/plain": [
       "[{'generated_text': 'Generate response for the below text, without repeating the Text in the response\\n            \\n            Text:\\n            ```My name is Julien and I like to ```\\n            \\n            Response:\\n            ```My name is Julien and I like to code.```'}]"
      ]
     },
     "execution_count": 163,
     "metadata": {},
     "output_type": "execute_result"
    }
   ],
   "source": [
    "predictor.predict({\n",
    "\t\"inputs\": \"\"\"Generate response for the below text, without repeating the Text in the response\n",
    "            \n",
    "            Text:\n",
    "            ```My name is Julien and I like to ```\n",
    "            \n",
    "            Response:\n",
    "            \"\"\"\n",
    "})"
   ]
  },
  {
   "cell_type": "code",
   "execution_count": null,
   "id": "388cc57c-4c3d-4436-bcb7-5bd6539163ee",
   "metadata": {},
   "outputs": [],
   "source": []
  },
  {
   "cell_type": "code",
   "execution_count": null,
   "id": "d9886b28-9236-4cf1-8dba-04675131e102",
   "metadata": {},
   "outputs": [],
   "source": []
  },
  {
   "cell_type": "code",
   "execution_count": null,
   "id": "eab8de6f-88d2-420c-adc1-ef1ab8c6a4b8",
   "metadata": {
    "tags": []
   },
   "outputs": [],
   "source": [
    "# ml.c5.2xlarge\n",
    "# https://us-east-1.console.aws.amazon.com/servicequotas/home/services/sagemaker/quotas"
   ]
  },
  {
   "cell_type": "code",
   "execution_count": 67,
   "id": "ef23dc6d-7942-44b1-bbe1-a955cb5bbfe3",
   "metadata": {
    "tags": []
   },
   "outputs": [],
   "source": [
    "# deploy model to SageMaker Inference\n",
    "# predictor = huggingface_model.deploy(\n",
    "# \tinitial_instance_count=1,\n",
    "# \tinstance_type=\"ml.c5.2xlarge\",  \n",
    "# \tcontainer_startup_health_check_timeout=300,\n",
    "#   endpoint_name=endpoint_name\n",
    "#   )"
   ]
  },
  {
   "cell_type": "code",
   "execution_count": null,
   "id": "6fb96b44-eb78-4466-bb78-8ac9d0e44dcb",
   "metadata": {},
   "outputs": [],
   "source": []
  },
  {
   "cell_type": "code",
   "execution_count": 85,
   "id": "7424c689-8e98-4cba-9263-0a34124a130a",
   "metadata": {
    "tags": []
   },
   "outputs": [],
   "source": [
    "def query_endpoint(payload):\n",
    "    \"\"\"Query endpoint and print the response\"\"\"\n",
    "    response = predictor.predict(payload)\n",
    "    #print(f\"\\033[1m Input:\\033[0m {payload['inputs']}\")\n",
    "    print(f\"\\033[1m Output:\\033[0m {response[0]['generated_text']}\")"
   ]
  },
  {
   "cell_type": "code",
   "execution_count": 73,
   "id": "586ebf6f-dd15-4d40-ba68-242700e036c8",
   "metadata": {},
   "outputs": [],
   "source": [
    "# payload = {\n",
    "#     \"inputs\": \"\"\"\"User: Can you identify the security issues in the following smart contract code within ```?\n",
    "\n",
    "#                 Code:\n",
    "#                 ```\n",
    "#                 // SPDX-License-Identifier: MIT\n",
    "#                 pragma solidity ^0.8.17;\n",
    "\n",
    "#                 contract CrowdFunding {\n",
    "#                     struct Campaign {\n",
    "#                         address owner;\n",
    "#                         string title;\n",
    "#                         string description;\n",
    "#                         uint256 target;\n",
    "#                         uint256 deadline;\n",
    "#                         uint256 amountCollected;\n",
    "#                         string image;\n",
    "#                         address[] donators;\n",
    "#                         uint256[] donations;\n",
    "#                     }\n",
    "\n",
    "#                     mapping(uint256 => Campaign) public campaigns;\n",
    "\n",
    "#                     uint256 public numberOfCampaigns = 0;\n",
    "\n",
    "#                     function createCampaign(\n",
    "#                         address _owner,\n",
    "#                         string memory _title,\n",
    "#                         string memory _description,\n",
    "#                         uint256 _target,\n",
    "#                         uint256 _deadline,\n",
    "#                         string memory _image\n",
    "#                     ) public returns (uint256) {\n",
    "#                         Campaign storage campaign = campaigns[numberOfCampaigns];\n",
    "\n",
    "#                         require(\n",
    "#                             campaign.deadline < block.timestamp,\n",
    "#                             \"The deadline should be a date in the future.\"\n",
    "#                         );\n",
    "\n",
    "#                         campaign.owner = _owner;\n",
    "#                         campaign.title = _title;\n",
    "#                         campaign.description = _description;\n",
    "#                         campaign.target = _target;\n",
    "#                         campaign.deadline = _deadline;\n",
    "#                         campaign.amountCollected = 0;\n",
    "#                         campaign.image = _image;\n",
    "\n",
    "#                         numberOfCampaigns++;\n",
    "\n",
    "#                         return numberOfCampaigns - 1;\n",
    "#                     }\n",
    "\n",
    "#                     function donateToCampaign(uint256 _id) public payable {\n",
    "#                         uint256 amount = msg.value;\n",
    "\n",
    "#                         Campaign storage campaign = campaigns[_id];\n",
    "\n",
    "#                         campaign.donators.push(msg.sender);\n",
    "#                         campaign.donations.push(amount);\n",
    "\n",
    "#                         campaign.amountCollected = campaign.amountCollected + amount;\n",
    "#                     }\n",
    "\n",
    "#                     function withdraw(uint256 _id) public {\n",
    "#                         Campaign storage campaign = campaigns[_id];\n",
    "\n",
    "#                         require(\n",
    "#                             campaign.owner == msg.sender,\n",
    "#                             \"Only the owner of the campaign can withdraw the funds.\"\n",
    "#                         );\n",
    "\n",
    "#                         require(\n",
    "#                             campaign.amountCollected >= campaign.target,\n",
    "#                             \"The campaign has not reached its target yet.\"\n",
    "#                         );\n",
    "\n",
    "#                         require(\n",
    "#                             campaign.deadline < block.timestamp,\n",
    "#                             \"The deadline has not passed yet.\"\n",
    "#                         );\n",
    "\n",
    "#                         (bool sent, ) = payable(campaign.owner).call{\n",
    "#                             value: campaign.amountCollected\n",
    "#                         }(\"\");\n",
    "\n",
    "#                         if (sent) {\n",
    "#                             campaign.amountCollected = 0;\n",
    "#                         }\n",
    "#                     }\n",
    "\n",
    "#                     function getCampaign(uint256 id)\n",
    "#                         public\n",
    "#                         view\n",
    "#                         returns (\n",
    "#                             address,\n",
    "#                             string memory,\n",
    "#                             string memory,\n",
    "#                             uint256,\n",
    "#                             uint256,\n",
    "#                             uint256,\n",
    "#                             string memory\n",
    "#                         )\n",
    "#                     {\n",
    "#                         Campaign memory campaign = campaigns[id];\n",
    "#                         return (\n",
    "#                             campaign.owner,\n",
    "#                             campaign.title,\n",
    "#                             campaign.description,\n",
    "#                             campaign.target,\n",
    "#                             campaign.deadline,\n",
    "#                             campaign.amountCollected,\n",
    "#                             campaign.image\n",
    "#                         );\n",
    "#                     }\n",
    "#                 }\n",
    "#                 ```\n",
    "\n",
    "#                 Assistant: Sure! Let me analyze the smart contract code for security issues.\n",
    "#                 List the security issues in the above code ?\n",
    "#                 \"\"\",\n",
    "#     \"parameters\": {\n",
    "#         \"do_sample\": True,\n",
    "#         \"top_p\": 0.9,\n",
    "#         \"temperature\": 0.9,\n",
    "#         # \"max_new_tokens\":1024\n",
    "#     }\n",
    "# }\n",
    "# predictor.predict(payload)"
   ]
  },
  {
   "cell_type": "code",
   "execution_count": 178,
   "id": "2322ed9f-efbf-42d9-bf68-256caf4faa10",
   "metadata": {
    "tags": []
   },
   "outputs": [],
   "source": [
    "payload = {\n",
    "    \"inputs\": \"\"\" Analyse the below solidity smart contract code:\n",
    "\n",
    "                ```\n",
    "                // SPDX-License-Identifier: MIT\n",
    "                pragma solidity ^0.8.17;\n",
    "\n",
    "                contract CrowdFunding {\n",
    "                    struct Campaign {\n",
    "                        address owner;\n",
    "                        string title;\n",
    "                        string description;\n",
    "                        uint256 target;\n",
    "                        uint256 deadline;\n",
    "                        uint256 amountCollected;\n",
    "                        string image;\n",
    "                        address[] donators;\n",
    "                        uint256[] donations;\n",
    "                    }\n",
    "\n",
    "                    mapping(uint256 => Campaign) public campaigns;\n",
    "\n",
    "                    uint256 public numberOfCampaigns = 0;\n",
    "\n",
    "                    function createCampaign(\n",
    "                        address _owner,\n",
    "                        string memory _title,\n",
    "                        string memory _description,\n",
    "                        uint256 _target,\n",
    "                        uint256 _deadline,\n",
    "                        string memory _image\n",
    "                    ) public returns (uint256) {\n",
    "                        Campaign storage campaign = campaigns[numberOfCampaigns];\n",
    "\n",
    "                        require(\n",
    "                            campaign.deadline < block.timestamp,\n",
    "                            \"The deadline should be a date in the future.\"\n",
    "                        );\n",
    "\n",
    "                        campaign.owner = _owner;\n",
    "                        campaign.title = _title;\n",
    "                        campaign.description = _description;\n",
    "                        campaign.target = _target;\n",
    "                        campaign.deadline = _deadline;\n",
    "                        campaign.amountCollected = 0;\n",
    "                        campaign.image = _image;\n",
    "\n",
    "                        numberOfCampaigns++;\n",
    "\n",
    "                        return numberOfCampaigns - 1;\n",
    "                    }\n",
    "\n",
    "                    function donateToCampaign(uint256 _id) public payable {\n",
    "                        uint256 amount = msg.value;\n",
    "\n",
    "                        Campaign storage campaign = campaigns[_id];\n",
    "\n",
    "                        campaign.donators.push(msg.sender);\n",
    "                        campaign.donations.push(amount);\n",
    "\n",
    "                        campaign.amountCollected = campaign.amountCollected + amount;\n",
    "                    }\n",
    "\n",
    "                    function withdraw(uint256 _id) public {\n",
    "                        Campaign storage campaign = campaigns[_id];\n",
    "\n",
    "                        require(\n",
    "                            campaign.owner == msg.sender,\n",
    "                            \"Only the owner of the campaign can withdraw the funds.\"\n",
    "                        );\n",
    "\n",
    "                        require(\n",
    "                            campaign.amountCollected >= campaign.target,\n",
    "                            \"The campaign has not reached its target yet.\"\n",
    "                        );\n",
    "\n",
    "                        require(\n",
    "                            campaign.deadline < block.timestamp,\n",
    "                            \"The deadline has not passed yet.\"\n",
    "                        );\n",
    "\n",
    "                        (bool sent, ) = payable(campaign.owner).call{\n",
    "                            value: campaign.amountCollected\n",
    "                        }(\"\");\n",
    "\n",
    "                        if (sent) {\n",
    "                            campaign.amountCollected = 0;\n",
    "                        }\n",
    "                    }\n",
    "\n",
    "                    function getCampaign(uint256 id)\n",
    "                        public\n",
    "                        view\n",
    "                        returns (\n",
    "                            address,\n",
    "                            string memory,\n",
    "                            string memory,\n",
    "                            uint256,\n",
    "                            uint256,\n",
    "                            uint256,\n",
    "                            string memory\n",
    "                        )\n",
    "                    {\n",
    "                        Campaign memory campaign = campaigns[id];\n",
    "                        return (\n",
    "                            campaign.owner,\n",
    "                            campaign.title,\n",
    "                            campaign.description,\n",
    "                            campaign.target,\n",
    "                            campaign.deadline,\n",
    "                            campaign.amountCollected,\n",
    "                            campaign.image\n",
    "                        );\n",
    "                    }\n",
    "                }\n",
    "                ```\n",
    "\n",
    "                List the security issues in the above code ?\n",
    "                \n",
    "                \n",
    "                \"\"\",\n",
    "    \"parameters\": {\n",
    "        #\"do_sample\": True,\n",
    "        \"top_p\": 0.9,\n",
    "        #\"temperature\": 0.9,\n",
    "        \"stop\": [\"<|endoftext|>\", \"</s>\"]\n",
    "        #\"max_new_tokens\":1024\n",
    "    }\n",
    "}\n",
    "# predictor.predict(payload)"
   ]
  },
  {
   "cell_type": "code",
   "execution_count": 179,
   "id": "bdb5779a-79f5-4f1a-8833-0f45656fcc4b",
   "metadata": {
    "tags": []
   },
   "outputs": [
    {
     "name": "stdout",
     "output_type": "stream",
     "text": [
      "\u001b[1m Output:\u001b[0m  Analyse the below solidity smart contract code:\n",
      "\n",
      "                ```\n",
      "                // SPDX-License-Identifier: MIT\n",
      "                pragma solidity ^0.8.17;\n",
      "\n",
      "                contract CrowdFunding {\n",
      "                    struct Campaign {\n",
      "                        address owner;\n",
      "                        string title;\n",
      "                        string description;\n",
      "                        uint256 target;\n",
      "                        uint256 deadline;\n",
      "                        uint256 amountCollected;\n",
      "                        string image;\n",
      "                        address[] donators;\n",
      "                        uint256[] donations;\n",
      "                    }\n",
      "\n",
      "                    mapping(uint256 => Campaign) public campaigns;\n",
      "\n",
      "                    uint256 public numberOfCampaigns = 0;\n",
      "\n",
      "                    function createCampaign(\n",
      "                        address _owner,\n",
      "                        string memory _title,\n",
      "                        string memory _description,\n",
      "                        uint256 _target,\n",
      "                        uint256 _deadline,\n",
      "                        string memory _image\n",
      "                    ) public returns (uint256) {\n",
      "                        Campaign storage campaign = campaigns[numberOfCampaigns];\n",
      "\n",
      "                        require(\n",
      "                            campaign.deadline < block.timestamp,\n",
      "                            \"The deadline should be a date in the future.\"\n",
      "                        );\n",
      "\n",
      "                        campaign.owner = _owner;\n",
      "                        campaign.title = _title;\n",
      "                        campaign.description = _description;\n",
      "                        campaign.target = _target;\n",
      "                        campaign.deadline = _deadline;\n",
      "                        campaign.amountCollected = 0;\n",
      "                        campaign.image = _image;\n",
      "\n",
      "                        numberOfCampaigns++;\n",
      "\n",
      "                        return numberOfCampaigns - 1;\n",
      "                    }\n",
      "\n",
      "                    function donateToCampaign(uint256 _id) public payable {\n",
      "                        uint256 amount = msg.value;\n",
      "\n",
      "                        Campaign storage campaign = campaigns[_id];\n",
      "\n",
      "                        campaign.donators.push(msg.sender);\n",
      "                        campaign.donations.push(amount);\n",
      "\n",
      "                        campaign.amountCollected = campaign.amountCollected + amount;\n",
      "                    }\n",
      "\n",
      "                    function withdraw(uint256 _id) public {\n",
      "                        Campaign storage campaign = campaigns[_id];\n",
      "\n",
      "                        require(\n",
      "                            campaign.owner == msg.sender,\n",
      "                            \"Only the owner of the campaign can withdraw the funds.\"\n",
      "                        );\n",
      "\n",
      "                        require(\n",
      "                            campaign.amountCollected >= campaign.target,\n",
      "                            \"The campaign has not reached its target yet.\"\n",
      "                        );\n",
      "\n",
      "                        require(\n",
      "                            campaign.deadline < block.timestamp,\n",
      "                            \"The deadline has not passed yet.\"\n",
      "                        );\n",
      "\n",
      "                        (bool sent, ) = payable(campaign.owner).call{\n",
      "                            value: campaign.amountCollected\n",
      "                        }(\"\");\n",
      "\n",
      "                        if (sent) {\n",
      "                            campaign.amountCollected = 0;\n",
      "                        }\n",
      "                    }\n",
      "\n",
      "                    function getCampaign(uint256 id)\n",
      "                        public\n",
      "                        view\n",
      "                        returns (\n",
      "                            address,\n",
      "                            string memory,\n",
      "                            string memory,\n",
      "                            uint256,\n",
      "                            uint256,\n",
      "                            uint256,\n",
      "                            string memory\n",
      "                        )\n",
      "                    {\n",
      "                        Campaign memory campaign = campaigns[id];\n",
      "                        return (\n",
      "                            campaign.owner,\n",
      "                            campaign.title,\n",
      "                            campaign.description,\n",
      "                            campaign.target,\n",
      "                            campaign.deadline,\n",
      "                            campaign.amountCollected,\n",
      "                            campaign.image\n",
      "                        );\n",
      "                    }\n",
      "                }\n",
      "                ```\n",
      "\n",
      "                List the security issues in the above code ?\n",
      "                \n",
      "                \n",
      "                \n",
      "The code has a significant security issue by not checking the ownership of the contract. Without verifying that\n"
     ]
    }
   ],
   "source": [
    "query_endpoint(payload)"
   ]
  },
  {
   "cell_type": "code",
   "execution_count": null,
   "id": "1e67f2fc-005e-4102-b03f-6589aa022fc5",
   "metadata": {},
   "outputs": [],
   "source": []
  },
  {
   "cell_type": "markdown",
   "id": "eaef8f5d-1c50-4c78-b5b6-8c0f5b8a71db",
   "metadata": {},
   "source": [
    "## Delete Endpoint"
   ]
  },
  {
   "cell_type": "code",
   "execution_count": 180,
   "id": "acf32c4d-dfe9-4dc3-b537-3aa6c8352c53",
   "metadata": {
    "tags": []
   },
   "outputs": [],
   "source": [
    "predictor.delete_model()\n",
    "predictor.delete_endpoint()"
   ]
  },
  {
   "cell_type": "code",
   "execution_count": null,
   "id": "35bdf9f8-d438-40b1-a774-447bf4a63667",
   "metadata": {},
   "outputs": [],
   "source": []
  }
 ],
 "metadata": {
  "availableInstances": [
   {
    "_defaultOrder": 0,
    "_isFastLaunch": true,
    "category": "General purpose",
    "gpuNum": 0,
    "hideHardwareSpecs": false,
    "memoryGiB": 4,
    "name": "ml.t3.medium",
    "vcpuNum": 2
   },
   {
    "_defaultOrder": 1,
    "_isFastLaunch": false,
    "category": "General purpose",
    "gpuNum": 0,
    "hideHardwareSpecs": false,
    "memoryGiB": 8,
    "name": "ml.t3.large",
    "vcpuNum": 2
   },
   {
    "_defaultOrder": 2,
    "_isFastLaunch": false,
    "category": "General purpose",
    "gpuNum": 0,
    "hideHardwareSpecs": false,
    "memoryGiB": 16,
    "name": "ml.t3.xlarge",
    "vcpuNum": 4
   },
   {
    "_defaultOrder": 3,
    "_isFastLaunch": false,
    "category": "General purpose",
    "gpuNum": 0,
    "hideHardwareSpecs": false,
    "memoryGiB": 32,
    "name": "ml.t3.2xlarge",
    "vcpuNum": 8
   },
   {
    "_defaultOrder": 4,
    "_isFastLaunch": true,
    "category": "General purpose",
    "gpuNum": 0,
    "hideHardwareSpecs": false,
    "memoryGiB": 8,
    "name": "ml.m5.large",
    "vcpuNum": 2
   },
   {
    "_defaultOrder": 5,
    "_isFastLaunch": false,
    "category": "General purpose",
    "gpuNum": 0,
    "hideHardwareSpecs": false,
    "memoryGiB": 16,
    "name": "ml.m5.xlarge",
    "vcpuNum": 4
   },
   {
    "_defaultOrder": 6,
    "_isFastLaunch": false,
    "category": "General purpose",
    "gpuNum": 0,
    "hideHardwareSpecs": false,
    "memoryGiB": 32,
    "name": "ml.m5.2xlarge",
    "vcpuNum": 8
   },
   {
    "_defaultOrder": 7,
    "_isFastLaunch": false,
    "category": "General purpose",
    "gpuNum": 0,
    "hideHardwareSpecs": false,
    "memoryGiB": 64,
    "name": "ml.m5.4xlarge",
    "vcpuNum": 16
   },
   {
    "_defaultOrder": 8,
    "_isFastLaunch": false,
    "category": "General purpose",
    "gpuNum": 0,
    "hideHardwareSpecs": false,
    "memoryGiB": 128,
    "name": "ml.m5.8xlarge",
    "vcpuNum": 32
   },
   {
    "_defaultOrder": 9,
    "_isFastLaunch": false,
    "category": "General purpose",
    "gpuNum": 0,
    "hideHardwareSpecs": false,
    "memoryGiB": 192,
    "name": "ml.m5.12xlarge",
    "vcpuNum": 48
   },
   {
    "_defaultOrder": 10,
    "_isFastLaunch": false,
    "category": "General purpose",
    "gpuNum": 0,
    "hideHardwareSpecs": false,
    "memoryGiB": 256,
    "name": "ml.m5.16xlarge",
    "vcpuNum": 64
   },
   {
    "_defaultOrder": 11,
    "_isFastLaunch": false,
    "category": "General purpose",
    "gpuNum": 0,
    "hideHardwareSpecs": false,
    "memoryGiB": 384,
    "name": "ml.m5.24xlarge",
    "vcpuNum": 96
   },
   {
    "_defaultOrder": 12,
    "_isFastLaunch": false,
    "category": "General purpose",
    "gpuNum": 0,
    "hideHardwareSpecs": false,
    "memoryGiB": 8,
    "name": "ml.m5d.large",
    "vcpuNum": 2
   },
   {
    "_defaultOrder": 13,
    "_isFastLaunch": false,
    "category": "General purpose",
    "gpuNum": 0,
    "hideHardwareSpecs": false,
    "memoryGiB": 16,
    "name": "ml.m5d.xlarge",
    "vcpuNum": 4
   },
   {
    "_defaultOrder": 14,
    "_isFastLaunch": false,
    "category": "General purpose",
    "gpuNum": 0,
    "hideHardwareSpecs": false,
    "memoryGiB": 32,
    "name": "ml.m5d.2xlarge",
    "vcpuNum": 8
   },
   {
    "_defaultOrder": 15,
    "_isFastLaunch": false,
    "category": "General purpose",
    "gpuNum": 0,
    "hideHardwareSpecs": false,
    "memoryGiB": 64,
    "name": "ml.m5d.4xlarge",
    "vcpuNum": 16
   },
   {
    "_defaultOrder": 16,
    "_isFastLaunch": false,
    "category": "General purpose",
    "gpuNum": 0,
    "hideHardwareSpecs": false,
    "memoryGiB": 128,
    "name": "ml.m5d.8xlarge",
    "vcpuNum": 32
   },
   {
    "_defaultOrder": 17,
    "_isFastLaunch": false,
    "category": "General purpose",
    "gpuNum": 0,
    "hideHardwareSpecs": false,
    "memoryGiB": 192,
    "name": "ml.m5d.12xlarge",
    "vcpuNum": 48
   },
   {
    "_defaultOrder": 18,
    "_isFastLaunch": false,
    "category": "General purpose",
    "gpuNum": 0,
    "hideHardwareSpecs": false,
    "memoryGiB": 256,
    "name": "ml.m5d.16xlarge",
    "vcpuNum": 64
   },
   {
    "_defaultOrder": 19,
    "_isFastLaunch": false,
    "category": "General purpose",
    "gpuNum": 0,
    "hideHardwareSpecs": false,
    "memoryGiB": 384,
    "name": "ml.m5d.24xlarge",
    "vcpuNum": 96
   },
   {
    "_defaultOrder": 20,
    "_isFastLaunch": false,
    "category": "General purpose",
    "gpuNum": 0,
    "hideHardwareSpecs": true,
    "memoryGiB": 0,
    "name": "ml.geospatial.interactive",
    "supportedImageNames": [
     "sagemaker-geospatial-v1-0"
    ],
    "vcpuNum": 0
   },
   {
    "_defaultOrder": 21,
    "_isFastLaunch": true,
    "category": "Compute optimized",
    "gpuNum": 0,
    "hideHardwareSpecs": false,
    "memoryGiB": 4,
    "name": "ml.c5.large",
    "vcpuNum": 2
   },
   {
    "_defaultOrder": 22,
    "_isFastLaunch": false,
    "category": "Compute optimized",
    "gpuNum": 0,
    "hideHardwareSpecs": false,
    "memoryGiB": 8,
    "name": "ml.c5.xlarge",
    "vcpuNum": 4
   },
   {
    "_defaultOrder": 23,
    "_isFastLaunch": false,
    "category": "Compute optimized",
    "gpuNum": 0,
    "hideHardwareSpecs": false,
    "memoryGiB": 16,
    "name": "ml.c5.2xlarge",
    "vcpuNum": 8
   },
   {
    "_defaultOrder": 24,
    "_isFastLaunch": false,
    "category": "Compute optimized",
    "gpuNum": 0,
    "hideHardwareSpecs": false,
    "memoryGiB": 32,
    "name": "ml.c5.4xlarge",
    "vcpuNum": 16
   },
   {
    "_defaultOrder": 25,
    "_isFastLaunch": false,
    "category": "Compute optimized",
    "gpuNum": 0,
    "hideHardwareSpecs": false,
    "memoryGiB": 72,
    "name": "ml.c5.9xlarge",
    "vcpuNum": 36
   },
   {
    "_defaultOrder": 26,
    "_isFastLaunch": false,
    "category": "Compute optimized",
    "gpuNum": 0,
    "hideHardwareSpecs": false,
    "memoryGiB": 96,
    "name": "ml.c5.12xlarge",
    "vcpuNum": 48
   },
   {
    "_defaultOrder": 27,
    "_isFastLaunch": false,
    "category": "Compute optimized",
    "gpuNum": 0,
    "hideHardwareSpecs": false,
    "memoryGiB": 144,
    "name": "ml.c5.18xlarge",
    "vcpuNum": 72
   },
   {
    "_defaultOrder": 28,
    "_isFastLaunch": false,
    "category": "Compute optimized",
    "gpuNum": 0,
    "hideHardwareSpecs": false,
    "memoryGiB": 192,
    "name": "ml.c5.24xlarge",
    "vcpuNum": 96
   },
   {
    "_defaultOrder": 29,
    "_isFastLaunch": true,
    "category": "Accelerated computing",
    "gpuNum": 1,
    "hideHardwareSpecs": false,
    "memoryGiB": 16,
    "name": "ml.g4dn.xlarge",
    "vcpuNum": 4
   },
   {
    "_defaultOrder": 30,
    "_isFastLaunch": false,
    "category": "Accelerated computing",
    "gpuNum": 1,
    "hideHardwareSpecs": false,
    "memoryGiB": 32,
    "name": "ml.g4dn.2xlarge",
    "vcpuNum": 8
   },
   {
    "_defaultOrder": 31,
    "_isFastLaunch": false,
    "category": "Accelerated computing",
    "gpuNum": 1,
    "hideHardwareSpecs": false,
    "memoryGiB": 64,
    "name": "ml.g4dn.4xlarge",
    "vcpuNum": 16
   },
   {
    "_defaultOrder": 32,
    "_isFastLaunch": false,
    "category": "Accelerated computing",
    "gpuNum": 1,
    "hideHardwareSpecs": false,
    "memoryGiB": 128,
    "name": "ml.g4dn.8xlarge",
    "vcpuNum": 32
   },
   {
    "_defaultOrder": 33,
    "_isFastLaunch": false,
    "category": "Accelerated computing",
    "gpuNum": 4,
    "hideHardwareSpecs": false,
    "memoryGiB": 192,
    "name": "ml.g4dn.12xlarge",
    "vcpuNum": 48
   },
   {
    "_defaultOrder": 34,
    "_isFastLaunch": false,
    "category": "Accelerated computing",
    "gpuNum": 1,
    "hideHardwareSpecs": false,
    "memoryGiB": 256,
    "name": "ml.g4dn.16xlarge",
    "vcpuNum": 64
   },
   {
    "_defaultOrder": 35,
    "_isFastLaunch": false,
    "category": "Accelerated computing",
    "gpuNum": 1,
    "hideHardwareSpecs": false,
    "memoryGiB": 61,
    "name": "ml.p3.2xlarge",
    "vcpuNum": 8
   },
   {
    "_defaultOrder": 36,
    "_isFastLaunch": false,
    "category": "Accelerated computing",
    "gpuNum": 4,
    "hideHardwareSpecs": false,
    "memoryGiB": 244,
    "name": "ml.p3.8xlarge",
    "vcpuNum": 32
   },
   {
    "_defaultOrder": 37,
    "_isFastLaunch": false,
    "category": "Accelerated computing",
    "gpuNum": 8,
    "hideHardwareSpecs": false,
    "memoryGiB": 488,
    "name": "ml.p3.16xlarge",
    "vcpuNum": 64
   },
   {
    "_defaultOrder": 38,
    "_isFastLaunch": false,
    "category": "Accelerated computing",
    "gpuNum": 8,
    "hideHardwareSpecs": false,
    "memoryGiB": 768,
    "name": "ml.p3dn.24xlarge",
    "vcpuNum": 96
   },
   {
    "_defaultOrder": 39,
    "_isFastLaunch": false,
    "category": "Memory Optimized",
    "gpuNum": 0,
    "hideHardwareSpecs": false,
    "memoryGiB": 16,
    "name": "ml.r5.large",
    "vcpuNum": 2
   },
   {
    "_defaultOrder": 40,
    "_isFastLaunch": false,
    "category": "Memory Optimized",
    "gpuNum": 0,
    "hideHardwareSpecs": false,
    "memoryGiB": 32,
    "name": "ml.r5.xlarge",
    "vcpuNum": 4
   },
   {
    "_defaultOrder": 41,
    "_isFastLaunch": false,
    "category": "Memory Optimized",
    "gpuNum": 0,
    "hideHardwareSpecs": false,
    "memoryGiB": 64,
    "name": "ml.r5.2xlarge",
    "vcpuNum": 8
   },
   {
    "_defaultOrder": 42,
    "_isFastLaunch": false,
    "category": "Memory Optimized",
    "gpuNum": 0,
    "hideHardwareSpecs": false,
    "memoryGiB": 128,
    "name": "ml.r5.4xlarge",
    "vcpuNum": 16
   },
   {
    "_defaultOrder": 43,
    "_isFastLaunch": false,
    "category": "Memory Optimized",
    "gpuNum": 0,
    "hideHardwareSpecs": false,
    "memoryGiB": 256,
    "name": "ml.r5.8xlarge",
    "vcpuNum": 32
   },
   {
    "_defaultOrder": 44,
    "_isFastLaunch": false,
    "category": "Memory Optimized",
    "gpuNum": 0,
    "hideHardwareSpecs": false,
    "memoryGiB": 384,
    "name": "ml.r5.12xlarge",
    "vcpuNum": 48
   },
   {
    "_defaultOrder": 45,
    "_isFastLaunch": false,
    "category": "Memory Optimized",
    "gpuNum": 0,
    "hideHardwareSpecs": false,
    "memoryGiB": 512,
    "name": "ml.r5.16xlarge",
    "vcpuNum": 64
   },
   {
    "_defaultOrder": 46,
    "_isFastLaunch": false,
    "category": "Memory Optimized",
    "gpuNum": 0,
    "hideHardwareSpecs": false,
    "memoryGiB": 768,
    "name": "ml.r5.24xlarge",
    "vcpuNum": 96
   },
   {
    "_defaultOrder": 47,
    "_isFastLaunch": false,
    "category": "Accelerated computing",
    "gpuNum": 1,
    "hideHardwareSpecs": false,
    "memoryGiB": 16,
    "name": "ml.g5.xlarge",
    "vcpuNum": 4
   },
   {
    "_defaultOrder": 48,
    "_isFastLaunch": false,
    "category": "Accelerated computing",
    "gpuNum": 1,
    "hideHardwareSpecs": false,
    "memoryGiB": 32,
    "name": "ml.g5.2xlarge",
    "vcpuNum": 8
   },
   {
    "_defaultOrder": 49,
    "_isFastLaunch": false,
    "category": "Accelerated computing",
    "gpuNum": 1,
    "hideHardwareSpecs": false,
    "memoryGiB": 64,
    "name": "ml.g5.4xlarge",
    "vcpuNum": 16
   },
   {
    "_defaultOrder": 50,
    "_isFastLaunch": false,
    "category": "Accelerated computing",
    "gpuNum": 1,
    "hideHardwareSpecs": false,
    "memoryGiB": 128,
    "name": "ml.g5.8xlarge",
    "vcpuNum": 32
   },
   {
    "_defaultOrder": 51,
    "_isFastLaunch": false,
    "category": "Accelerated computing",
    "gpuNum": 1,
    "hideHardwareSpecs": false,
    "memoryGiB": 256,
    "name": "ml.g5.16xlarge",
    "vcpuNum": 64
   },
   {
    "_defaultOrder": 52,
    "_isFastLaunch": false,
    "category": "Accelerated computing",
    "gpuNum": 4,
    "hideHardwareSpecs": false,
    "memoryGiB": 192,
    "name": "ml.g5.12xlarge",
    "vcpuNum": 48
   },
   {
    "_defaultOrder": 53,
    "_isFastLaunch": false,
    "category": "Accelerated computing",
    "gpuNum": 4,
    "hideHardwareSpecs": false,
    "memoryGiB": 384,
    "name": "ml.g5.24xlarge",
    "vcpuNum": 96
   },
   {
    "_defaultOrder": 54,
    "_isFastLaunch": false,
    "category": "Accelerated computing",
    "gpuNum": 8,
    "hideHardwareSpecs": false,
    "memoryGiB": 768,
    "name": "ml.g5.48xlarge",
    "vcpuNum": 192
   },
   {
    "_defaultOrder": 55,
    "_isFastLaunch": false,
    "category": "Accelerated computing",
    "gpuNum": 8,
    "hideHardwareSpecs": false,
    "memoryGiB": 1152,
    "name": "ml.p4d.24xlarge",
    "vcpuNum": 96
   },
   {
    "_defaultOrder": 56,
    "_isFastLaunch": false,
    "category": "Accelerated computing",
    "gpuNum": 8,
    "hideHardwareSpecs": false,
    "memoryGiB": 1152,
    "name": "ml.p4de.24xlarge",
    "vcpuNum": 96
   }
  ],
  "instance_type": "ml.t3.medium",
  "kernelspec": {
   "display_name": "Python 3 (Data Science)",
   "language": "python",
   "name": "python3__SAGEMAKER_INTERNAL__arn:aws:sagemaker:us-east-1:081325390199:image/datascience-1.0"
  },
  "language_info": {
   "codemirror_mode": {
    "name": "ipython",
    "version": 3
   },
   "file_extension": ".py",
   "mimetype": "text/x-python",
   "name": "python",
   "nbconvert_exporter": "python",
   "pygments_lexer": "ipython3",
   "version": "3.7.10"
  }
 },
 "nbformat": 4,
 "nbformat_minor": 5
}
